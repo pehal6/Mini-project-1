[![Open In Colab](https://colab.research.google.com/assets/colab-badge.svg)](https://colab.research.google.com/github/pehal6/Mini-project-1/blob/main/python_assignment.ipynb)
{
  "nbformat": 4,
  "nbformat_minor": 0,
  "metadata": {
    "colab": {
      "provenance": []
    },
    "kernelspec": {
      "name": "python3",
      "display_name": "Python 3"
    },
    "language_info": {
      "name": "python"
    }
  },
  "cells": [
    {
      "cell_type": "markdown",
      "source": [
        "# **Python Assignment**"
      ],
      "metadata": {
        "id": "pKjR1Fhj0hvZ"
      }
    },
    {
      "cell_type": "markdown",
      "source": [
        "Q1. L is a list defined as L= [11, 12, 13, 14].\n",
        "(i) WAP to add 50 and 60 to L.\n",
        "(ii) WAP to remove 11 and 13from L.\n",
        "(iii) WAP to sort L in ascending order.\n",
        "(iv) WAP to sort L in descending order.\n",
        "(v) WAP to search for 13 in L.\n",
        "(vi) WAP to count the number of elements present in L.\n",
        "(vii) WAP to sum all the elements in L.\n",
        "(viii) WAP to sum all ODD numbers in L.\n",
        "(ix) WAP to sum all EVEN numbers in L.\n",
        "(x) WAP to sum all PRIME numbers in L.\n",
        "(xi) WAP to clear all the elements in L.\n",
        "(xii) WAP to delete L."
      ],
      "metadata": {
        "id": "qXmZcvzFNi9k"
      }
    },
    {
      "cell_type": "code",
      "execution_count": null,
      "metadata": {
        "colab": {
          "base_uri": "https://localhost:8080/"
        },
        "id": "lCWFn8HWK_sm",
        "outputId": "13a431a8-ca27-40d3-eb01-95ac65a42c7d"
      },
      "outputs": [
        {
          "output_type": "stream",
          "name": "stdout",
          "text": [
            "Original List: [11, 12, 13, 14]\n",
            "After adding 50 and 60: [11, 12, 13, 14, 50, 60]\n",
            "After removing 11 and 13: [12, 14, 50, 60]\n",
            "Sorted in ascending order: [12, 14, 50, 60]\n",
            "Sorted in descending order: [60, 50, 14, 12]\n",
            "13 is not present in the list.\n",
            "Number of elements in the list: 4\n",
            "Sum of all elements: 136\n",
            "Sum of odd numbers: 0\n",
            "Sum of even numbers: 136\n",
            "Sum of prime numbers: 0\n",
            "List after clearing: []\n",
            "List deleted.\n"
          ]
        }
      ],
      "source": [
        "L = [11, 12, 13, 14]\n",
        "print(\"Original List:\", L)\n",
        "\n",
        "# (i) Add 50 and 60 to L\n",
        "L.append(50)\n",
        "L.append(60)\n",
        "print(\"After adding 50 and 60:\", L)\n",
        "\n",
        "# (ii) Remove 11 and 13 from L\n",
        "L.remove(11)\n",
        "L.remove(13)\n",
        "print(\"After removing 11 and 13:\", L)\n",
        "\n",
        "# (iii) Sort L in ascending order\n",
        "L.sort()\n",
        "print(\"Sorted in ascending order:\", L)\n",
        "\n",
        "# (iv) Sort L in descending order\n",
        "L.sort(reverse=True)\n",
        "print(\"Sorted in descending order:\", L)\n",
        "\n",
        "# (v) Search for 13 in L\n",
        "if 13 in L:\n",
        "    print(\"13 is present in the list.\")\n",
        "else:\n",
        "    print(\"13 is not present in the list.\")\n",
        "\n",
        "# (vi) Count the number of elements in L\n",
        "print(\"Number of elements in the list:\", len(L))\n",
        "\n",
        "# (vii) Sum all elements in L\n",
        "print(\"Sum of all elements:\",sum(L))\n",
        "\n",
        "# (viii) Sum of odd numbers\n",
        "odd_sum = sum(x for x in L if x % 2 != 0)\n",
        "print(\"Sum of odd numbers:\", odd_sum)\n",
        "\n",
        "# (ix) Sum of even numbers\n",
        "even_sum = sum(x for x in L if x % 2 == 0)\n",
        "print(\"Sum of even numbers:\", even_sum)\n",
        "\n",
        "# (x) Sum of prime numbers\n",
        "def is_prime(n):\n",
        "    if n < 2:\n",
        "        return False\n",
        "    for i in range(2, int(n**0.5)+1):\n",
        "        if n % i == 0:\n",
        "            return False\n",
        "    return True\n",
        "\n",
        "prime_sum = sum(x for x in L if is_prime(x))\n",
        "print(\"Sum of prime numbers:\", prime_sum)\n",
        "\n",
        "# (xi) Clear all elements in L\n",
        "L.clear()\n",
        "print(\"List after clearing:\", L)\n",
        "\n",
        "# (xii) Delete the list L\n",
        "del L\n",
        "print(\"List deleted.\")\n"
      ]
    },
    {
      "cell_type": "markdown",
      "source": [
        "Q2. D is a dictionary defined as D= {1:5.6, 2:7.8, 3:6.6, 4:8.7, 5:7.7}.\n",
        "(i) WAP to add new entry in D; key=8 and value is 8.8\n",
        "(ii) WAP to remove key=2.\n",
        "(iii) WAP to check weather 6 key is present in D.\n",
        "(iv) WAP to count the number of elements present in D.\n",
        "(v) WAP to add all the values present D.\n",
        "(vi) WAP to update the value of 3 to 7.1.\n",
        "(vii) WAP to clear the dictionary."
      ],
      "metadata": {
        "id": "E3_JPfCjNxbI"
      }
    },
    {
      "cell_type": "code",
      "source": [
        "D = {1: 5.6, 2: 7.8, 3: 6.6, 4: 8.7, 5: 7.7}\n",
        "print(\"Original Dictionary:\", D)\n",
        "\n",
        "# (i) Add new entry: key = 8, value = 8.8\n",
        "D[8] = 8.8\n",
        "print(\"(i) After adding key=8:\", D)\n",
        "\n",
        "# (ii) Remove key = 2\n",
        "D.pop(2)\n",
        "print(\"(ii) After removing key=2:\", D)\n",
        "\n",
        "# (iii) Check whether key = 6 is present\n",
        "if 6 in D:\n",
        "    print(\"(iii) Key 6 is present in the dictionary.\")\n",
        "else:\n",
        "    print(\"(iii) Key 6 is not present in the dictionary.\")\n",
        "\n",
        "# (iv) Count number of elements\n",
        "print(\"(iv) Number of elements in the dictionary:\", len(D))\n",
        "\n",
        "# (v) Add all values\n",
        "print(\"(v) Sum of all values:\", sum(D.values()))\n",
        "\n",
        "# (vi) Update value of key = 3 to 7.1\n",
        "D[3] = 7.1\n",
        "print(\"(vi) After updating key=3:\", D)\n",
        "\n",
        "# (vii) Clear the dictionary\n",
        "D.clear()\n",
        "print(\"(vii) Dictionary after clearing:\", D)\n"
      ],
      "metadata": {
        "colab": {
          "base_uri": "https://localhost:8080/"
        },
        "id": "gM8JacLCNhZe",
        "outputId": "f6b3891a-4d60-4eed-8627-36849b342a20"
      },
      "execution_count": null,
      "outputs": [
        {
          "output_type": "stream",
          "name": "stdout",
          "text": [
            "Original Dictionary: {1: 5.6, 2: 7.8, 3: 6.6, 4: 8.7, 5: 7.7}\n",
            "(i) After adding key=8: {1: 5.6, 2: 7.8, 3: 6.6, 4: 8.7, 5: 7.7, 8: 8.8}\n",
            "(ii) After removing key=2: {1: 5.6, 3: 6.6, 4: 8.7, 5: 7.7, 8: 8.8}\n",
            "(iii) Key 6 is not present in the dictionary.\n",
            "(iv) Number of elements in the dictionary: 5\n",
            "(v) Sum of all values: 37.4\n",
            "(vi) After updating key=3: {1: 5.6, 3: 7.1, 4: 8.7, 5: 7.7, 8: 8.8}\n",
            "(vii) Dictionary after clearing: {}\n"
          ]
        }
      ]
    },
    {
      "cell_type": "markdown",
      "source": [
        "Q3. S1 is a set defined as S1= [10, 20, 30, 40, 50, 60].\n",
        "S2 is a set defined as S2= [40, 50, 60, 70, 80, 90].\n",
        "(i) WAP to add 55 and 66 in Set S1.\n",
        "(ii) WAP to remove 10 and 30 from Set S1.\n",
        "(iii) WAP to check whether 40 is present in S1.\n",
        "(iv) WAP to find the union between S1 and S2.\n",
        "(v) WAP to find the intersection between S1 and S2.\n",
        "(vi) WAP to find the S1 - S2."
      ],
      "metadata": {
        "id": "Yv5GzBpVOzf4"
      }
    },
    {
      "cell_type": "code",
      "source": [
        "S1 = set([10, 20, 30, 40, 50, 60])\n",
        "S2 = set([40, 50, 60, 70, 80, 90])\n",
        "\n",
        "print(\"Original S1:\", S1)\n",
        "print(\"Original S2:\", S2)\n",
        "\n",
        "# (i) Add 55 and 66 in S1\n",
        "S1.add(55)\n",
        "S1.add(66)\n",
        "print(\"(i) After adding 55 and 66 to S1:\", S1)\n",
        "\n",
        "# (ii) Remove 10 and 30 from S1\n",
        "S1.discard(10)\n",
        "S1.discard(30)\n",
        "print(\"(ii) After removing 10 and 30 from S1:\", S1)\n",
        "\n",
        "# (iii) Check if 40 is present in S1\n",
        "if 40 in S1:\n",
        "    print(\"(iii) 40 is present in S1\")\n",
        "else:\n",
        "    print(\"(iii) 40 is not present in S1\")\n",
        "\n",
        "# (iv) Union of S1 and S2\n",
        "union_set = S1.union(S2)\n",
        "print(\"(iv) Union of S1 and S2:\", union_set)\n",
        "\n",
        "# (v) Intersection of S1 and S2\n",
        "intersection_set = S1.intersection(S2)\n",
        "print(\"(v) Intersection of S1 and S2:\", intersection_set)\n",
        "\n",
        "# (vi) Difference S1 - S2\n",
        "difference_set = S1.difference(S2)\n",
        "print(\"(vi) Elements in S1 but not in S2:\", difference_set)\n"
      ],
      "metadata": {
        "colab": {
          "base_uri": "https://localhost:8080/"
        },
        "id": "bPPnRrjoOqGQ",
        "outputId": "7d32cfd9-bc9f-4be6-b565-0fd1732b6faf"
      },
      "execution_count": null,
      "outputs": [
        {
          "output_type": "stream",
          "name": "stdout",
          "text": [
            "Original S1: {40, 10, 50, 20, 60, 30}\n",
            "Original S2: {70, 40, 80, 50, 90, 60}\n",
            "(i) After adding 55 and 66 to S1: {66, 40, 10, 50, 20, 55, 60, 30}\n",
            "(ii) After removing 10 and 30 from S1: {66, 40, 50, 20, 55, 60}\n",
            "(iii) 40 is present in S1\n",
            "(iv) Union of S1 and S2: {66, 70, 40, 80, 50, 20, 55, 90, 60}\n",
            "(v) Intersection of S1 and S2: {40, 50, 60}\n",
            "(vi) Elements in S1 but not in S2: {66, 20, 55}\n"
          ]
        }
      ]
    },
    {
      "cell_type": "markdown",
      "source": [
        "Q4. Write the following program.\n",
        "(i) WAP to print 100 random strings whose length between 6 and 8.\n",
        "(ii) WAP to print all prime numbers between 600 and 800.\n",
        "(iii) WAP to print all numbers between 100 and 1000 that are divisible by 7 and 9."
      ],
      "metadata": {
        "id": "OyB-29EBPPIP"
      }
    },
    {
      "cell_type": "code",
      "source": [
        "import random\n",
        "import string\n",
        "# (i) Print 100 random strings with length between 6 and 8\n",
        "print(\"Random Strings:\")\n",
        "for i in range(100):\n",
        "    length = random.randint(6, 8)\n",
        "    rand_str = ''.join(random.choices(string.ascii_letters + string.digits, k=length))\n",
        "    print(rand_str)\n",
        "\n",
        "print(\"\\nPrime Numbers between 600 and 800:\")\n",
        "# (ii) Print all prime numbers between 600 and 800\n",
        "for num in range(600, 801):\n",
        "    if num > 1:\n",
        "        for i in range(2, int(num**0.5)+1):\n",
        "            if num % i == 0:\n",
        "                break\n",
        "        else:\n",
        "            print(num, end=' ')\n",
        "\n",
        "print(\"\\n\\nNumbers between 100 and 1000 divisible by both 7 and 9:\")\n",
        "# (iii) Print all numbers between 100 and 1000 divisible by 7 and 9\n",
        "for num in range(100, 1001):\n",
        "    if num % 7 == 0 and num % 9 == 0:\n",
        "        print(num, end=' ')"
      ],
      "metadata": {
        "id": "0_vTP96aPKKQ",
        "colab": {
          "base_uri": "https://localhost:8080/"
        },
        "outputId": "4c48c952-1806-4a43-ce63-ba8622a47689"
      },
      "execution_count": 4,
      "outputs": [
        {
          "output_type": "stream",
          "name": "stdout",
          "text": [
            "Random Strings:\n",
            "mb8Bh4U\n",
            "jQtwzz\n",
            "ZkLobI9R\n",
            "ytinbXH\n",
            "zsHClNW\n",
            "EKZNLq\n",
            "oDudzyX\n",
            "exBMS7GH\n",
            "pM1pLKPA\n",
            "12tddW\n",
            "RIW2Pg\n",
            "rBE7jpO\n",
            "SWnLte3H\n",
            "UJZC0zV\n",
            "DWmbkar\n",
            "m0mNhQ\n",
            "TWLC87\n",
            "R6DLq2\n",
            "2GcJiQ0\n",
            "zrZEKbT\n",
            "O09J5k\n",
            "okHMec\n",
            "gAwkZPer\n",
            "2K53uybG\n",
            "1OUeXAK\n",
            "fykcpSL\n",
            "bykXgvgM\n",
            "KhPrd61\n",
            "Wa5JJ8i\n",
            "fqPVKs\n",
            "bcNuoSS\n",
            "jhG05P\n",
            "OZeH6Q\n",
            "c7PPGBY4\n",
            "1c1KsIY\n",
            "VyuJNz\n",
            "IxxLBp\n",
            "aNu6QbZ\n",
            "JQnJF0\n",
            "HEVBaI2U\n",
            "XRt8YkKv\n",
            "J1roekW\n",
            "dSWcEB\n",
            "6JuAAV\n",
            "NJCFbe\n",
            "o8dSSI8\n",
            "06621EQR\n",
            "VvQxT6K6\n",
            "DM9yybE\n",
            "fQLx8PA\n",
            "ZeUukn2J\n",
            "7ZOnvU3\n",
            "gxQFdE\n",
            "dgbgP4\n",
            "xROl56gu\n",
            "sMTIEhN\n",
            "Wnc3HM2\n",
            "F5SrNDR\n",
            "vikrE9\n",
            "mSJFtvZk\n",
            "9B3RUGD\n",
            "r5FiSnJ\n",
            "O3oVVIH\n",
            "an9Oc8\n",
            "KS5zAd\n",
            "YdeyTk\n",
            "5vDluxy\n",
            "FppF7kXK\n",
            "fnuVWf7\n",
            "nEVYrj2J\n",
            "2Wz6Df4E\n",
            "SbYFy3\n",
            "RovGeLZP\n",
            "eq8czJ\n",
            "cykrc6W\n",
            "KCNbYb\n",
            "5ZGk9QO\n",
            "UUILhns4\n",
            "5YSPCvKE\n",
            "pQkHvBM5\n",
            "k4vxvq\n",
            "wcqewMr\n",
            "SRqKwa\n",
            "2W1s4e\n",
            "ZpOtE39G\n",
            "cEYCg6eq\n",
            "01zMj6L\n",
            "Hs0fAhdD\n",
            "X4nRGOz\n",
            "H1tYlcY\n",
            "kJh7jer8\n",
            "EItXhpI\n",
            "BfcxUzw\n",
            "5StjR3Xo\n",
            "60D3sG\n",
            "f0rBsYx2\n",
            "yGhrAzrG\n",
            "4AqFgz\n",
            "nONm8XU\n",
            "TMy74Z\n",
            "\n",
            "Prime Numbers between 600 and 800:\n",
            "601 607 613 617 619 631 641 643 647 653 659 661 673 677 683 691 701 709 719 727 733 739 743 751 757 761 769 773 787 797 \n",
            "\n",
            "Numbers between 100 and 1000 divisible by both 7 and 9:\n",
            "126 189 252 315 378 441 504 567 630 693 756 819 882 945 "
          ]
        }
      ]
    },
    {
      "cell_type": "markdown",
      "source": [
        "Q5. WAP to create two lists of 10 random numbers between 10 and 30; Find\n",
        "(i) Common numbers in the two lists\n",
        "(ii) Unique numbers in both the list\n",
        "(iii) Minimum in both the list\n",
        "(iv) Maximum in both the list\n",
        "(v) Sum of both the lists"
      ],
      "metadata": {
        "id": "dnxUNnTyPQy2"
      }
    },
    {
      "cell_type": "code",
      "source": [
        "import random\n",
        "\n",
        "# WAP to create two lists of 10 random numbers between 10 and 30\n",
        "list1 = [random.randint(10, 30) for i in range(10)]\n",
        "list2 = [random.randint(10, 30) for i in range(10)]\n",
        "\n",
        "print(\"List 1:\", list1)\n",
        "print(\"List 2:\", list2)\n",
        "\n",
        "# (i) Common numbers in the two lists\n",
        "common_numbers = list(set(list1).intersection(list2))\n",
        "print(\"(i) Common numbers:\", common_numbers)\n",
        "\n",
        "# (ii) Unique numbers in both the list\n",
        "unique_numbers = list(set(list1).symmetric_difference(set(list2)))\n",
        "print(\"(ii) Unique numbers:\", unique_numbers)\n",
        "\n",
        "# (iii) Minimum in both the list\n",
        "min_list1 = min(list1)\n",
        "min_list2 = min(list2)\n",
        "print(\"(iii) Minimum in List 1:\", min_list1)\n",
        "print(\"(iii) Minimum in List 2:\", min_list2)\n",
        "\n",
        "# (iv) Maximum in both the list\n",
        "max_list1 = max(list1)\n",
        "max_list2 = max(list2)\n",
        "print(\"(iv) Maximum in List 1:\", max_list1)\n",
        "print(\"(iv) Maximum in List 2:\", max_list2)\n",
        "\n",
        "# (v) Sum of both the lists\n",
        "sum_list1 = sum(list1)\n",
        "sum_list2 = sum(list2)\n",
        "print(\"(v) Sum of List 1:\", sum_list1)\n",
        "print(\"(v) Sum of List 2:\", sum_list2)\n",
        "print(\"(v) Total sum of both lists:\", sum_list1 + sum_list2)"
      ],
      "metadata": {
        "id": "zIPR1bvrPUdl",
        "colab": {
          "base_uri": "https://localhost:8080/"
        },
        "outputId": "95c2c954-ba2b-496d-eb7c-4476dce7396b"
      },
      "execution_count": 14,
      "outputs": [
        {
          "output_type": "stream",
          "name": "stdout",
          "text": [
            "List 1: [20, 20, 20, 21, 14, 16, 10, 27, 12, 17]\n",
            "List 2: [30, 29, 20, 11, 12, 19, 29, 23, 29, 12]\n",
            "(i) Common numbers: [20, 12]\n",
            "(ii) Unique numbers: [10, 11, 14, 16, 17, 19, 21, 23, 27, 29, 30]\n",
            "(iii) Minimum in List 1: 10\n",
            "(iii) Minimum in List 2: 11\n",
            "(iv) Maximum in List 1: 27\n",
            "(iv) Maximum in List 2: 30\n",
            "(v) Sum of List 1: 177\n",
            "(v) Sum of List 2: 214\n",
            "(v) Total sum of both lists: 391\n"
          ]
        }
      ]
    },
    {
      "cell_type": "markdown",
      "source": [
        "Q6. WAP to create a list of 100 random numbers between 100 and 900. Count and print the:\n",
        "(i) All odd numbers\n",
        "(ii) All even numbers\n",
        "(iii) All prime numbers"
      ],
      "metadata": {
        "id": "UPsixrJKPWRe"
      }
    },
    {
      "cell_type": "code",
      "metadata": {
        "colab": {
          "base_uri": "https://localhost:8080/"
        },
        "id": "7c210b6f",
        "outputId": "f74afa67-c8e6-4186-ea99-2dbecab8873d"
      },
      "source": [
        "import random\n",
        "\n",
        "# Create a list of 100 random numbers between 100 and 900\n",
        "random_numbers = [random.randint(100, 900) for i in range(100)]\n",
        "\n",
        "odd_count = 0\n",
        "even_count = 0\n",
        "prime_count = 0\n",
        "\n",
        "# Function to check if a number is prime\n",
        "def is_prime(n):\n",
        "    if n < 2:\n",
        "        return False\n",
        "    for i in range(2, int(n**0.5) + 1):\n",
        "        if n % i == 0:\n",
        "            return False\n",
        "    return True\n",
        "\n",
        "for number in random_numbers:\n",
        "    if number % 2 == 0:\n",
        "        even_count += 1\n",
        "    else:\n",
        "        odd_count += 1\n",
        "    if is_prime(number):\n",
        "        prime_count += 1\n",
        "\n",
        "# Print the counts\n",
        "print(\"Total numbers:\", len(random_numbers))\n",
        "print(\"Odd numbers:\", odd_count)\n",
        "print(\"Even numbers:\", even_count)\n",
        "print(\"Prime numbers:\", prime_count)"
      ],
      "execution_count": 16,
      "outputs": [
        {
          "output_type": "stream",
          "name": "stdout",
          "text": [
            "Total numbers: 100\n",
            "Odd numbers: 46\n",
            "Even numbers: 54\n",
            "Prime numbers: 16\n"
          ]
        }
      ]
    },
    {
      "cell_type": "markdown",
      "source": [
        "Q7. D is a dictionary defined as D={1:\"One\",2:\"Two\",3:\"Three\",4:\"Four\", 5:\"Five\"}.\n",
        "WAP to read all the keys and values from dictionary and write to the file in the given below format.\n",
        "Key1, Value1\n",
        "Key2, Value2\n",
        "Key3, Value3"
      ],
      "metadata": {
        "id": "aseqvAR7PaWf"
      }
    },
    {
      "cell_type": "code",
      "metadata": {
        "colab": {
          "base_uri": "https://localhost:8080/"
        },
        "id": "a9c0cb1a",
        "outputId": "2b851f3c-789a-46ca-ca96-3c8d05f1dec4"
      },
      "source": [
        "D = {1: \"One\", 2: \"Two\", 3: \"Three\", 4: \"Four\", 5: \"Five\"}\n",
        "\n",
        "with open(\"dictionary_output.txt\", \"w\") as f:\n",
        "    for key, value in D.items():\n",
        "        f.write(f\"{key}:{value}\\n\")\n",
        "\n",
        "print(\"Dictionary keys and values written to dictionary_output.txt\")"
      ],
      "execution_count": 17,
      "outputs": [
        {
          "output_type": "stream",
          "name": "stdout",
          "text": [
            "Dictionary keys and values written to dictionary_output.txt\n"
          ]
        }
      ]
    },
    {
      "cell_type": "markdown",
      "source": [
        "Q8. L is a list defined as L={\"One\",\"Two\",\"Three\",\"Four\",\"Five\"}.\n",
        "WAP to count the length of reach element from a list and write to the file in the given below format:\n",
        "One, 3\n",
        "Two, 3\n",
        "Four, 4"
      ],
      "metadata": {
        "id": "rfTpOh0kPc5D"
      }
    },
    {
      "cell_type": "code",
      "metadata": {
        "colab": {
          "base_uri": "https://localhost:8080/"
        },
        "id": "006f27ce",
        "outputId": "e66b6e08-1e09-42b7-df2b-085fc5d0ea2a"
      },
      "source": [
        "L = [\"One\", \"Two\", \"Three\", \"Four\", \"Five\"]\n",
        "\n",
        "with open(\"list_element_lengths.txt\", \"w\") as f:\n",
        "    for element in L:\n",
        "        length = len(element)\n",
        "        f.write(f\"{element}: {length}\\n\")\n",
        "\n",
        "print(\"List elements and their lengths have been written to list_element_lengths.txt\")"
      ],
      "execution_count": 18,
      "outputs": [
        {
          "output_type": "stream",
          "name": "stdout",
          "text": [
            "List elements and their lengths have been written to list_element_lengths.txt\n"
          ]
        }
      ]
    },
    {
      "cell_type": "markdown",
      "source": [
        "Q9. Write to the file 100 random strings whose length between 10 and 15."
      ],
      "metadata": {
        "id": "acg-638RPfwz"
      }
    },
    {
      "cell_type": "code",
      "metadata": {
        "colab": {
          "base_uri": "https://localhost:8080/"
        },
        "id": "ad5549dc",
        "outputId": "e3ecd958-faba-4f61-afb5-0d2da9dc8fd4"
      },
      "source": [
        "import random\n",
        "import string\n",
        "\n",
        "with open(\"random_strings.txt\", \"w\") as f:\n",
        "    for _ in range(100):\n",
        "        length = random.randint(10, 15)\n",
        "        random_string = ''.join(random.choices(string.ascii_letters + string.digits, k=length))\n",
        "        f.write(random_string + '\\n')\n",
        "print(\"100 random strings have been written to random_strings.txt\")"
      ],
      "execution_count": 19,
      "outputs": [
        {
          "output_type": "stream",
          "name": "stdout",
          "text": [
            "100 random strings have been written to random_strings.txt\n"
          ]
        }
      ]
    },
    {
      "cell_type": "markdown",
      "source": [
        "Q10. Write to the file all prime numbers between 600 and 800."
      ],
      "metadata": {
        "id": "orSA7Cs5PnUy"
      }
    },
    {
      "cell_type": "code",
      "metadata": {
        "colab": {
          "base_uri": "https://localhost:8080/"
        },
        "id": "4c8ea907",
        "outputId": "9aed961c-4151-48f6-a010-278e92aaf92b"
      },
      "source": [
        "def is_prime(n):\n",
        "      if n < 2:\n",
        "        return False\n",
        "      for i in range(2, int(n**0.5) + 1):\n",
        "        if n % i == 0:\n",
        "            return False\n",
        "      return True\n",
        "\n",
        "with open(\"prime_numbers.txt\", \"w\") as f:\n",
        "    for number in range(600, 801):\n",
        "         if is_prime(number):\n",
        "            f.write(str(number) + '\\n')\n",
        "print(\"Prime numbers between 600 and 800 have been written to prime_numbers.txt\")"
      ],
      "execution_count": 28,
      "outputs": [
        {
          "output_type": "stream",
          "name": "stdout",
          "text": [
            "Prime numbers between 600 and 800 have been written to prime_numbers.txt\n"
          ]
        }
      ]
    },
    {
      "cell_type": "markdown",
      "source": [
        "Q11. WAP to calculate the time taken by a program."
      ],
      "metadata": {
        "id": "vhjfvmsDPpTb"
      }
    },
    {
      "cell_type": "code",
      "metadata": {
        "colab": {
          "base_uri": "https://localhost:8080/"
        },
        "id": "f5bac401",
        "outputId": "198c9058-1039-4711-a9ae-a8b96d095890"
      },
      "source": [
        "import time\n",
        "start_time = time.time()\n",
        "\n",
        "print(\"Executing some program...\")\n",
        "for i in range(1000):\n",
        "    pass\n",
        "\n",
        "end_time = time.time()\n",
        "\n",
        "elapsed_time = end_time - start_time\n",
        "\n",
        "print(f\"Time taken by the program: {elapsed_time} seconds\")"
      ],
      "execution_count": 30,
      "outputs": [
        {
          "output_type": "stream",
          "name": "stdout",
          "text": [
            "Executing some program...\n",
            "Time taken by the program: 0.00021409988403320312 seconds\n"
          ]
        }
      ]
    },
    {
      "cell_type": "markdown",
      "source": [
        "Q12. WAP to sort following number of elements in a list, calculate time taken and plot the graph.\n",
        "\n",
        "![Screenshot 2025-06-19 182211.png](data:image/png;base64,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)"
      ],
      "metadata": {
        "id": "srNqQn6NPrv0"
      }
    },
    {
      "cell_type": "code",
      "metadata": {
        "colab": {
          "base_uri": "https://localhost:8080/",
          "height": 694
        },
        "id": "7c55df67",
        "outputId": "636b3690-8ea0-4295-d3e9-5ef5f1172f8e"
      },
      "source": [
        "import random\n",
        "import time\n",
        "import matplotlib.pyplot as plt\n",
        "\n",
        "sizes = [5000, 10000, 15000, 20000, 25000]\n",
        "times = []\n",
        "\n",
        "for size in sizes:\n",
        "    data = random.sample(range(size * 10), size)  # Generate a random list\n",
        "    start_time = time.time()\n",
        "    sorted_data = sorted(data)\n",
        "    end_time = time.time()\n",
        "\n",
        "    elapsed_time = end_time - start_time\n",
        "    times.append(elapsed_time)\n",
        "    print(f\"Sorted list of {size} elements in {elapsed_time:.5f} seconds\")\n",
        "\n",
        "# Plotting the results\n",
        "plt.figure(figsize=(10, 6))\n",
        "plt.plot(sizes, times, marker='o', linestyle='-', color='blue')\n",
        "plt.title(\"Time Taken to Sort Lists of Different Sizes\")\n",
        "plt.xlabel(\"Number of Elements in List\")\n",
        "plt.ylabel(\"Time Taken (seconds)\")\n",
        "plt.grid(True)\n",
        "plt.tight_layout()\n",
        "plt.show()\n"
      ],
      "execution_count": 32,
      "outputs": [
        {
          "output_type": "stream",
          "name": "stdout",
          "text": [
            "Sorted list of 5000 elements in 0.00087 seconds\n",
            "Sorted list of 10000 elements in 0.00259 seconds\n",
            "Sorted list of 15000 elements in 0.00312 seconds\n",
            "Sorted list of 20000 elements in 0.00428 seconds\n",
            "Sorted list of 25000 elements in 0.00826 seconds\n"
          ]
        },
        {
          "output_type": "display_data",
          "data": {
            "text/plain": [
              "<Figure size 1000x600 with 1 Axes>"
            ],
            "image/png": "[encoded data removed]"
          },
          "metadata": {}
        }
      ]
    },
    {
      "cell_type": "markdown",
      "source": [
        "Q13. WAP to create a dictionary of student marks in five subjects and you have to find the student\n",
        "having maximum and minimum average marks."
      ],
      "metadata": {
        "id": "ItPcKr-GQF5q"
      }
    },
    {
      "cell_type": "code",
      "metadata": {
        "colab": {
          "base_uri": "https://localhost:8080/"
        },
        "id": "a795152a",
        "outputId": "62a929a8-52a2-46d0-faf3-9d0bc9405df6"
      },
      "source": [
        "students = {\n",
        "    \"Arjun\": [78, 85, 80, 75, 90],\n",
        "    \"Meera\": [92, 88, 91, 95, 89],\n",
        "    \"Ravi\": [60, 65, 58, 62, 64],\n",
        "    \"Priya\": [98, 97, 96, 95, 99],\n",
        "    \"Kabir\": [45, 50, 42, 40, 48]\n",
        "}\n",
        "\n",
        "average_marks = {}\n",
        "\n",
        "for name, marks in students.items():\n",
        "    avg = sum(marks) / len(marks)\n",
        "    average_marks[name] = avg\n",
        "\n",
        "max_avg_student = max(average_marks, key=average_marks.get)\n",
        "min_avg_student = min(average_marks, key=average_marks.get)\n",
        "\n",
        "print(\"Average Marks of Students:\")\n",
        "for student, avg in average_marks.items():\n",
        "    print(f\"{student}: {avg:.2f}\")\n",
        "\n",
        "print(f\"\\nHighest Average: {max_avg_student} -> {average_marks[max_avg_student]:.2f}\")\n",
        "print(f\"Lowest Average: {min_avg_student} -> {average_marks[min_avg_student]:.2f}\")\n"
      ],
      "execution_count": 31,
      "outputs": [
        {
          "output_type": "stream",
          "name": "stdout",
          "text": [
            "Average Marks of Students:\n",
            "Arjun: 81.60\n",
            "Meera: 91.00\n",
            "Ravi: 61.80\n",
            "Priya: 97.00\n",
            "Kabir: 45.00\n",
            "\n",
            "Highest Average: Priya -> 97.00\n",
            "Lowest Average: Kabir -> 45.00\n"
          ]
        }
      ]
    }
  ]
}
